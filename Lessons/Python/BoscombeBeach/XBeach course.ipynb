{
 "cells": [
  {
   "cell_type": "markdown",
   "metadata": {},
   "source": [
    "![title](logo.PNG)"
   ]
  },
  {
   "cell_type": "markdown",
   "metadata": {},
   "source": [
    "# XBeach basic course\n",
    "\n",
    "*2021*\n",
    "*Delft, \n",
    "Netherlands*\n"
   ]
  },
  {
   "cell_type": "markdown",
   "metadata": {},
   "source": [
    "## 1\tGETTING STARTED\n",
    "The course materials contain the XBeach executable, manual, model examples and Deltares software (Quickin, Quickplot) that will help us to analyze and modify the model schematization and results. \n",
    "\n",
    "The objectives of this exercise are to learn how to create an XBeach-surfbeat model from scratch to simulate nearshore hydro- and morphodynamics during storm conditions.\n",
    "\n",
    "Click here to go to the manual:\n",
    "<a href=\"https://xbeach.readthedocs.io/en/latest/user_manual.html\" target=\"_blank\">Manual</a>\n",
    "\n",
    "Click here to go to the OSS website:\n",
    "<a href=\"https://oss.deltares.nl/web/xbeach/\" target=\"_blank\">Manual</a>"
   ]
  },
  {
   "cell_type": "markdown",
   "metadata": {},
   "source": [
    "## 2\tUsing the xbTools (Python)\n",
    "In the following exercises we will make use of the Python routines that are part of the xbTools. The xbTools can be used to set up and run an XBeach model, as well as to analyze and visualize simulation results. The toolbox is open source (like XBeach) and can be downloaded freely. The only requirement is to have Python installed on your pc (preferably version 3.1 or higher).\n",
    "\n",
    "The toolbox is available in the OpenEarth Github page (<a href=\"https://github.com/openearth/xbeach-toolbox\" target=\"_blank\">xbTools</a>). \n",
    "\n",
    "Note that the toolbox is not complete yet.\n"
   ]
  },
  {
   "cell_type": "markdown",
   "metadata": {},
   "source": [
    "## 3\tHANDS-ON EXERCISE: Storms at Boscombe Beach\n",
    "\n",
    "In this exercise, we will set up a storm impact model from scratch with use of the xbTools. The case concerns Boscombe beach, located at the south coast of the U.K, and we will use (measured) data of the local bathymetry, hydrodynamic conditions and some other characteristics to set up a storm impact model. \n",
    "\n",
    "By follwing the steps in this notebook, we will setup an XBeach model. \n",
    "\n",
    "All the required steps to setup a XBeach model are shown in the notebook cells (indicated by `In []`). The code in these cells can be adjusted if desired. To run a cell in the notebook you can press `Shift+enter`. The result of the cell is shown below the cell. Sometimes it takes some time to execute the command in the cell. When the command is executed this is shown with an Astrix before the cell ( `In [*]`). The cell indicated with a `In []` are not yet executed. When a cell is executed, the number of times it is executed is shown before the cell `In [4]`. \n",
    "\n",
    "Try it yourself in the cell below, for example, by printing hello xbeach user (`print('hello xbeach user')`).\n",
    "\n"
   ]
  },
  {
   "cell_type": "code",
   "execution_count": null,
   "metadata": {},
   "outputs": [],
   "source": []
  },
  {
   "cell_type": "markdown",
   "metadata": {},
   "source": [
    "***\n",
    "### 1. Import packages\n",
    "Before we can use the xbTools we need to import a few packages. \n",
    "\n",
    "Next to the standard packages, we also need to import the xbTools."
   ]
  },
  {
   "cell_type": "code",
   "execution_count": null,
   "metadata": {},
   "outputs": [],
   "source": [
    "%matplotlib widget\n",
    "import numpy as np\n",
    "from scipy import interpolate\n",
    "import matplotlib.pyplot as plt\n",
    "from mpl_toolkits.mplot3d import axes3d, Axes3D \n",
    "from matplotlib import cm\n",
    "import sys\n",
    "import os\n",
    "\n",
    "## import xbeach tools\n",
    "sys.path.append('pyTools')\n",
    "\n",
    "from xbTools import xgrid, ygrid, seaward_extend, XBeachModelSetup, offshore_depth, lateral_extend, xb_run_script_win\n",
    "\n",
    "\n"
   ]
  },
  {
   "cell_type": "markdown",
   "metadata": {},
   "source": [
    "***\n",
    "### 2. set input\n",
    "\n",
    "Specify the name of your model and set the path of the simulation. In addition set the wave conditions. "
   ]
  },
  {
   "cell_type": "code",
   "execution_count": null,
   "metadata": {},
   "outputs": [],
   "source": [
    "path_sim = os.path.join('models')\n",
    "simName  = 'test' #REPLACE BY ...\n",
    "\n",
    "Hm0 = ...\n",
    "Tp = ...\n"
   ]
  },
  {
   "cell_type": "markdown",
   "metadata": {},
   "source": [
    "***\n",
    "### 3. load data\n",
    "\n",
    "Load the bathymetric data and plot the bathymetry. The dimensions of the bathymetric data is 124 x 20 points with a cross-shore resolution of 5m and a longshore resolution of 20m. Run the following code to plot the bathymetric data.\n",
    "\n",
    "**Questions:**\n",
    "* **What is the height of dunes?**\n",
    "\n",
    "* **What is the water depth at the offshore boundary?**\n"
   ]
  },
  {
   "cell_type": "code",
   "execution_count": null,
   "metadata": {},
   "outputs": [],
   "source": [
    "## load data\n",
    "bathy = np.loadtxt(os.path.join('models','clean','bathy.dep'))\n",
    "\n",
    "## set bathy grid\n",
    "nx = 124\n",
    "ny = 72\n",
    "dx = 5\n",
    "dy = 20\n",
    "\n",
    "x = np.linspace(0,(nx-1)*dx,nx)\n",
    "y = np.linspace(0,(ny-1)*dy,ny)\n",
    "\n",
    "X, Y = np.meshgrid(x,y)\n",
    "\n",
    "## plot\n",
    "plt.figure()\n",
    "plt.pcolor(x,y,bathy)\n",
    "plt.colorbar()\n",
    "plt.xlabel('x [m]')\n",
    "plt.ylabel('y [m]')\n",
    "plt.title('bathy')\n",
    "\n",
    "\n",
    "\n",
    "fig     = plt.figure()\n",
    "ax      = Axes3D(fig)\n",
    "surf    = ax.plot_surface(X, Y, bathy, cmap=cm.coolwarm,  linewidth=0, antialiased=False)\n",
    "plt.xlabel('x [m]')\n",
    "plt.ylabel('y [m]')"
   ]
  },
  {
   "cell_type": "markdown",
   "metadata": {},
   "source": [
    "***\n",
    "### 4. xgrid\n",
    "\n",
    "The bathymetric data does not have the optimal resolution for a XBeach computation. The required grid resolution in the cross-shore direction is related to the wave length. To optimize the computational time, we will create a spatially varying x-grid. The `xgrid` function can help us with creating a x-grid.\n",
    "\n",
    "We will use one of the profiles from the bathymetric data to create a x-grid. In this example, we will use a minimum dx of 2 m with 20 points per wave length. Note that this function has more input parameters. To see the other input parameters or the function description select the function and click on `SHIFT+TAB` to get the function description.\n",
    "\n"
   ]
  },
  {
   "cell_type": "code",
   "execution_count": null,
   "metadata": {},
   "outputs": [],
   "source": [
    "xgr_1D,zgr_1D = xgrid(x, bathy[20,:],dxmin=2,ppwl=20)\n",
    "\n",
    "\n",
    "\n",
    "plt.figure()\n",
    "plt.plot(x,bathy[20,:],'-o')\n",
    "plt.plot(xgr_1D,zgr_1D,'.-')\n",
    "plt.legend(['Bathy','xgr'],loc=2)\n",
    "plt.xlabel('x [m]')\n",
    "plt.ylabel('z [m]')"
   ]
  },
  {
   "cell_type": "markdown",
   "metadata": {},
   "source": [
    "***\n",
    "### 5. ygrid\n",
    "\n",
    "Next to a x-grid, we also need a y-grid. To optimize the computational time, we use a finer grid (dy=5 m) resolution in the center of the domain. To create ay-grid we can use the `ygrid` function."
   ]
  },
  {
   "cell_type": "code",
   "execution_count": null,
   "metadata": {},
   "outputs": [],
   "source": [
    "ygr_1D = ygrid(y,dymin=5, dymax= 20, area_size = 0.4)\n",
    "\n",
    "plt.figure()\n",
    "plt.plot(y[:-1],np.diff(y),'-o')\n",
    "plt.plot(ygr_1D[:-1],np.diff(ygr_1D),'.-')\n",
    "plt.legend(['y','ygr'])\n",
    "plt.xlabel('y [m]')\n",
    "plt.ylabel('dy [m]')"
   ]
  },
  {
   "cell_type": "markdown",
   "metadata": {},
   "source": [
    "***\n",
    "### 6. interpolate\n",
    "\n",
    "Now we have created a x and y grid, we need to interpolate the bathymetric data to this new grid. We use the `interpolate` function from t6he scipy package to help us."
   ]
  },
  {
   "cell_type": "code",
   "execution_count": null,
   "metadata": {},
   "outputs": [],
   "source": [
    "f = interpolate.interp2d(x, y, bathy, kind='linear')\n",
    "\n",
    "zgr = f(xgr_1D,ygr_1D)\n",
    "\n",
    "plt.figure()\n",
    "plt.pcolor(xgr_1D,ygr_1D,zgr)\n",
    "plt.xlabel('x [m]')\n",
    "plt.ylabel('y [m]')\n",
    "plt.title('xb bathy')\n",
    "plt.colorbar()\n",
    "\n",
    "xgr, ygr = np.meshgrid(xgr_1D,ygr_1D)"
   ]
  },
  {
   "cell_type": "markdown",
   "metadata": {},
   "source": [
    "***\n",
    "### 7. Seaward extend\n",
    "\n",
    "To correctly force XBeach, a certain water depth at the boundary is required. The function `offshore_depth` compute the required water depth at the boundary based on the wave conditions.\n",
    "\n",
    "We will use 1:20 slope to extend the domain to the required water depth.\n",
    "\n",
    "**Questions:**\n",
    "* **What is the required water depth?**\n",
    "\n"
   ]
  },
  {
   "cell_type": "code",
   "execution_count": null,
   "metadata": {},
   "outputs": [],
   "source": [
    "waterdepth = np.abs(bathy[:,0].min())\n",
    "\n",
    "d_start, slope, Hm0_shoal = offshore_depth(Hm0=Hm0, Tp=Tp, depth_offshore_profile=waterdepth, depth_boundary_conditions=20)\n",
    "\n",
    "xgr, ygr, zgr = seaward_extend(xgr,ygr,zgr,slope=1/20,depth=d_start*-1)\n",
    "\n",
    "plt.figure()\n",
    "plt.pcolor(xgr,ygr,zgr)\n",
    "plt.xlabel('x [m]')\n",
    "plt.ylabel('y [m]')\n",
    "plt.colorbar()"
   ]
  },
  {
   "cell_type": "markdown",
   "metadata": {},
   "source": [
    "***\n",
    "### 8. Lateral extend\n",
    "\n",
    "We will also extend the model domain at both later sides. This is required for the lateral boundary conditions.\n",
    "\n",
    "In this case, we will extend the domain with 5 additional cells.\n",
    "\n"
   ]
  },
  {
   "cell_type": "code",
   "execution_count": null,
   "metadata": {},
   "outputs": [],
   "source": [
    "xgr,ygr,zgr = lateral_extend(xgr,ygr,zgr,n=5)\n",
    "\n",
    "plt.figure()\n",
    "plt.pcolor(xgr,ygr,zgr)\n",
    "plt.xlabel('x [m]')\n",
    "plt.ylabel('y [m]')"
   ]
  },
  {
   "cell_type": "markdown",
   "metadata": {},
   "source": [
    "***\n",
    "### 9. Settings\n",
    "\n",
    "The grid is now finished. The next step is to create an xbeach model. We can use the `XBeachModelSetup` class to create an XBeach model. \n",
    "\n",
    "We will give our XBeach model a name and add the grid.\n",
    "\n",
    "**Questions:**\n",
    "* **What are the dimensions of the grid?**"
   ]
  },
  {
   "cell_type": "code",
   "execution_count": null,
   "metadata": {},
   "outputs": [],
   "source": [
    "xb_setup = XBeachModelSetup(simName)\n",
    "\n",
    "print(xb_setup)\n",
    "\n",
    "xb_setup.set_grid(xgr,ygr,zgr)\n",
    "\n",
    "print('Number of cells in x-direction',xb_setup.nx)"
   ]
  },
  {
   "cell_type": "markdown",
   "metadata": {},
   "source": [
    "***\n",
    "### 10. Boundary conditions\n",
    "\n",
    "XBeach has multiple options to force the boundary conditions. In this example we will use the jons option with a constant wave condition in time."
   ]
  },
  {
   "cell_type": "code",
   "execution_count": null,
   "metadata": {},
   "outputs": [],
   "source": [
    "xb_setup.set_waves('jons',{'Hm0':Hm0,'Tp':Tp,'gammajsp':3.3, 's' : 10000, 'mainang':270,'fnyq':1})\n",
    "\n",
    "#xb_setup.set_waves('jonstable',{'Hm0':[1.5, 2, 1.5],'Tp':[4, 5, 4],'gammajsp':[3.3, 3.3, 3.3], 's' : [20,20,20], 'mainang':[270,280, 290],'duration':[3600, 3600, 3600],'dtbc':[1,1,1]})\n"
   ]
  },
  {
   "cell_type": "markdown",
   "metadata": {},
   "source": [
    "***\n",
    "### 11. Settings\n",
    "\n",
    "The last step is to specify the settings of the model.\n",
    "\n",
    "When a parameter is not specified, XBeach will use the default values. Some key parameters are required for a simulation and must be specified (e.g. wavemodel).\n"
   ]
  },
  {
   "cell_type": "code",
   "execution_count": null,
   "metadata": {},
   "outputs": [],
   "source": [
    "xb_setup.set_params({'Wavemodel':'surfbeat',\n",
    "                     'morphology':1,\n",
    "                     'befriccoef':0.01,\n",
    "                     'tstop':3700,\n",
    "                     'nglobalvar':['zb','zs','H'],\n",
    "                     'morfac':5,\n",
    "                     'tstart':0,\n",
    "                     'morstart':100,\n",
    "                     'npointvar':['zs','H'],\n",
    "                     'nmeanvar':['zb'],\n",
    "                     'npoints':['1 0', '6 0', '10 0', '12 0']})"
   ]
  },
  {
   "cell_type": "markdown",
   "metadata": {},
   "source": [
    "***\n",
    "### 12. Write model\n",
    "\n",
    "Now the model setup is ready and we can write the model setup to the model folder. In addition, we also write a run script to start the simulation.\n",
    "\n",
    "To start the simulation go to the model folder and click on the run script.\n",
    "\n",
    "Note that is also possible to create a batch script with multiple simulations. Instead of the xb_setup class, give a list with different classes as input to the function xb_run_script_win."
   ]
  },
  {
   "cell_type": "code",
   "execution_count": null,
   "metadata": {},
   "outputs": [],
   "source": [
    "model_path = os.path.join(path_sim,simName)\n",
    "if not os.path.exists(model_path):\n",
    "    os.mkdir(model_path)\n",
    "xb_setup.write_model(model_path)\n",
    "\n",
    "xb_run_script_win(xb_setup, N=1, maindir=path_sim, xbeach_exe='..\\\\exe_nonh\\\\xbeach.exe')"
   ]
  },
  {
   "cell_type": "markdown",
   "metadata": {},
   "source": [
    "## Exercises\n",
    "\n",
    "After setting up a model, it is time to try different variations and see how the model behaves. \n",
    "\n",
    "Tip: make sure that every simulation has a different name. \n",
    "\n",
    "**Questions:**\n",
    "* **What is the effect of the water level on the dune erosion?**\n",
    "* **What is the effect of the points per wave length on the grid resolution?**\n",
    "* **What is the effect of the wave direction on dune erosion**"
   ]
  },
  {
   "cell_type": "code",
   "execution_count": null,
   "metadata": {},
   "outputs": [],
   "source": []
  }
 ],
 "metadata": {
  "kernelspec": {
   "display_name": "Python 3",
   "language": "python",
   "name": "python3"
  },
  "language_info": {
   "codemirror_mode": {
    "name": "ipython",
    "version": 3
   },
   "file_extension": ".py",
   "mimetype": "text/x-python",
   "name": "python",
   "nbconvert_exporter": "python",
   "pygments_lexer": "ipython3",
   "version": "3.8.3"
  }
 },
 "nbformat": 4,
 "nbformat_minor": 4
}
